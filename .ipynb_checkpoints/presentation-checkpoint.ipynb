{
 "cells": [
  {
   "cell_type": "markdown",
   "id": "b958034d",
   "metadata": {},
   "source": [
    "# Decidi il tuo domani: supporto alla scelta universitaria"
   ]
  },
  {
   "cell_type": "markdown",
   "id": "1bc1f2c4",
   "metadata": {},
   "source": [
    "L'obiettivo è creare un sistema per consigliare facoltà compatibili con gli interessi di una persona. Sebbene esistano già sistemi con questo scopo, il loro utilizzo non è molto user-friendly, poiché richiedono la compilazione di un numero eccessivo di domande.\n",
    "\n",
    "Il sistema proposto ridurrà il numero di domande da compilare e permetterà all'utente di descrivere liberamente i propri interessi attraverso un testo scritto."
   ]
  },
  {
   "cell_type": "markdown",
   "id": "2b72d529",
   "metadata": {},
   "source": [
    "## Struttura del progetto\n",
    "\n",
    "![./img/schema.png](./img/schema.png)\n",
    "\n",
    "Lo schema presenta due tipi di elementi:\n",
    "\n",
    "- Rettangolo: rappresenta dati statici (come database) o dati processati da una funzione.\n",
    "- Freccia: rappresenta una funzione che prende in input dei dati e restituisce in output altri dati.\n",
    "\n",
    "I numeri accanto ai rettangoli e alle frecce servono unicamente a richiamare gli elementi durante la descrizione delle varie componenti. I numeri di color arancione servono a far riferimento ai blocchi contententi dati, mentre quelli blu per le funzioni."
   ]
  },
  {
   "cell_type": "code",
   "execution_count": null,
   "id": "6a864014",
   "metadata": {},
   "outputs": [],
   "source": [
    "# librerie usate\n",
    "import json\n",
    "from nltk.corpus import stopwords\n",
    "from nltk.tokenize import word_tokenize\n",
    "from nltk.stem import WordNetLemmatizer\n",
    "from nltk.corpus import wordnet\n",
    "import math\n",
    "import mysql.connector\n",
    "import pandas as pd\n",
    "from fuzzywuzzy import fuzz\n",
    "import re\n",
    "from sklearn.preprocessing import LabelEncoder\n",
    "from sklearn.metrics.pairwise import cosine_similarity\n",
    "import matplotlib.pyplot as plt"
   ]
  },
  {
   "cell_type": "markdown",
   "id": "ef776f1e",
   "metadata": {},
   "source": [
    "## Funzionamento del sistema\n",
    "\n",
    "Il sistema si aspetta in input i dati nella tabella 1:\n",
    "- un vettore di numeri che rappresenta la profilazione dell'utente (riquadro giallo)\n",
    "- un testo con gli interessi dell'utente (riquadro verde acqua)\n",
    "\n",
    "Il vettore di numeri viene passato alla Funzione 1, che, sfruttando le informazioni sugli utenti profilati (Tabella 2), individua gli utenti simili a quello a cui vogliamo consigliare le facoltà. In questo modo, otteniamo una prima idea delle facoltà che potrebbero piacere all'utente (strategia di collaborative filtering). La tabella in output associa ad ogni facoltà una score.\n",
    "\n",
    "Il testo con gli interessi dell'utente viene passato alla Funzione 2, che divide le parole della frase in due gruppi: parole con sentiment positivo e parole con sentiment negativo (Tabella 4). Ad esempio, se l'utente digita \"Mi piace la matematica ma non la storia\", ci aspettiamo che la parola \"matematica\" venga classificata come parola con sentiment positivo, mentre \"storia\" con sentiment negativo.\n",
    "\n",
    "Successivamente, la Funzione 4 prende in input le parole suddivise per sentiment (Tabella 4) e partiziona le facoltà del database in quelle che potrebbero interessare all'utente (punteggio positivo) e quelle che potrebbero non piacere (punteggio negativo) e da in output la tabella 6.\n",
    "\n",
    "In fine la funzione 5 sfrutta le informazioni trovate finora per dare in output le facoltà suggerite all'utente. \n",
    "\n",
    "Questa strategia ibrida sfrutta la filosofia della serie TV \"Quattro ristoranti\": i consigli della tabella 3 possono essere confermati o ribaltati da quelli della tabella 6."
   ]
  },
  {
   "cell_type": "markdown",
   "id": "557ba83e",
   "metadata": {},
   "source": [
    "## Descrizione dettagliata delle funzioni\n",
    "\n",
    "#### Funzione 1\n",
    "- **Input:** Vettore di numeri (chiamato anche query, riquadro giallo in Tabella 1), Utenti profilati (Tabella 2)\n",
    "- **Output:** Vettore di facoltà con associato uno score (Tabella 3)\n",
    "\n",
    "Gli utenti sono profilati tramite vettori di lunghezza fissa. Si sfrutta la distanza del coseno tra la query e ogni utente profilato. In output viene fornita una lista delle facoltà consigliate, con uno score associato a ciascuna facoltà: lo score è maggiore se la distanza del coseno è minore.\n",
    "\n",
    "#### Funzione 2\n",
    "- **Input:** Stringa con gli interessi dell'utente (riquadro verde acqua in Tabella 1)\n",
    "- **Output:** Vettore di parole associate a sentiment positivo (riquadro verde in Tabella 4), Vettore di parole associate a sentiment negativo (riquadro rosso in Tabella 4)\n",
    "\n",
    "La Funzione 2 analizza il testo con gli interessi dell'utente nel seguente modo:\n",
    "1. Spezza la frase in sotto-frasi.\n",
    "2. Per ogni sotto-frase:\n",
    "   - Estrae una lista di tutte le parole che sono nomi o verbi.\n",
    "   - Applica VADER (Valence Aware Dictionary and sEntiment Reasoner) per determinare il sentiment della sotto-frase.\n",
    "   - Se il sentiment è positivo, aggiunge le parole al vettore delle parole positive.\n",
    "   - Se il sentiment è negativo, aggiunge le parole al vettore delle parole negative.\n",
    "   - Se il sentiment è neutro, si basa sulla sotto-frase precedente:\n",
    "     - Se il sentiment della sotto-frase precedente era positivo (negativo) e non ci sono negazioni nella sotto-frase corrente, aggiunge le parole al vettore delle parole positive (negative).\n",
    "     - Se c'è una negazione nella sotto-frase corrente, aggiunge le parole al vettore delle parole con sentiment opposto (parole negative se il sentiment precedente era positivo, e viceversa).\n",
    "\n",
    "Per negazioni si intendono parole come: 'non', 'ma', 'però'. Queste parole, nella pratica, spesso portano a un cambio di polarità nella frase successiva, influenzando il sentiment complessivo della frase.\n",
    "\n",
    "#### Funzione 3\n",
    "Descritta successivamente perché viene eseguita solo una volta in maniera offline per la creazione del database con le informazioni delle facoltà\n",
    "\n",
    "#### Funzione 4\n",
    "- **Input:** Vettore di parole associate a sentiment positivo (riquadro verde in Tabella 4), Vettore di parole associate a sentiment negativo (riquadro rosso in Tabella 4), Database con le informazioni delle facoltà\n",
    "- **Output:** Vettore di facoltà con associato uno score (Tabella 6)\n",
    "\n",
    "La Funzione 4 esegue il seguente algoritmo sia per le parole associate a sentiment positivo che negativo:\n",
    "\n",
    "1. Mantengo le parole che compaiono nelle descrizioni delle facoltà (k parole)\n",
    "2. Creo una tabella con k colonne e con numero di righe pari alle facoltà. Per ogni facoltà, associo alla i-esima colonna la TF della i-esima parola nella descrizione della facoltà moltiplicata per la sua IDF\n",
    "3. Creo un vettore di k elementi associato al vettore di k parole. L'i-esimo elemento è il prodotto della TF della parola nel vettore di parole moltiplicato per la sua IDF.\n",
    "4. Utilizzo la distanza del coseno per calcolare la similarità tra il vettore calcolato al punto 3 e le righe della tabella calcolata al punto 3. A ciascuna facoltà viene assegnato uno score: minore è la distanza del coseno maggiore è lo score.\n",
    "5. Se le parole erano associate a sentiment negativo, moltiplico per -1 gli score delle facoltà pertinenti. In questo modo, vengono identificate le facoltà \"vicine\" agli interessi dell'utente ed associo un punteggio positivo, mentre quelle \"vicine\" a ciò che non piace all'utente vengono considerate con uno score negativo.\n",
    "\n",
    "#### Funzione 5\n",
    "- **Input:** Vettore di facoltà con associato uno score (Tabella 3), Vettore di facoltà con associato uno score (Tabella 6)\n",
    "- **Output:** Vettore di facoltà con associato uno score (Tabella 7)\n",
    "\n",
    "Per ogni facoltà sotto gli score ottenuti nella tabella 3 e 7. In questo modo se una facoltà ha ottenuto un punteggio positivo in entrambe le tabella è probabile che venga consigliata. Se il punteggio è negativo invece il punteggio nella tabella 3 viene abbassato. Questo processo di combinazione dei punteggi fornisce una valutazione più accurata delle facoltà da consigliare all'utente, tenendo conto sia delle preferenze degli utenti simili sia degli interessi dell'utente."
   ]
  },
  {
   "cell_type": "markdown",
   "id": "c637118f",
   "metadata": {},
   "source": [
    "## Raccolta dati\n",
    "\n",
    "Il sistema per funzionare richiede due fonti di dati:\n",
    "\n",
    "- Dati sugli utenti già iscritti a una facoltà (Tabella 2)\n",
    "- Dati sulle facoltà (Tabella 5)\n"
   ]
  },
  {
   "cell_type": "markdown",
   "id": "74847ee7",
   "metadata": {},
   "source": [
    "##### Estrazione dati sugli utenti\n",
    "La creazione della Tabella 2 avviene tramite un form fornito esclusivamente agli studenti universitari. Il form è composto da domande a scelta multipla: nella prima viene chiesto di inserire la facoltà frequentata e successivamente vengono proposte domande per profilare gli interessi dell'utente."
   ]
  },
  {
   "cell_type": "markdown",
   "id": "25ca0465",
   "metadata": {},
   "source": [
    "##### Estrazione dati sulle facoltà\n",
    "La creazione della Tabella 5 sfrutta le informazioni presenti sul sito dell'Università di Catania. Per ciascuna facoltà dell'ateneo sono state estratte la descrizione del corso, gli obiettivi formativi e gli sbocchi professionali.\n",
    "\n",
    "La sfida principale nel fare web scraping sul sito dell'università è la scarsa strutturazione dei siti dei vari dipartimenti: alcuni presentano le informazioni richieste nella homepage, mentre altri utilizzano menù a tendina che reindirizzano a pagine specifiche. Un altro problema è l'assenza di classi nel codice HTML, rendendo l'estrazione automatizzata più complessa.\n",
    "\n",
    "Inizialmente, avrei voluto fare web scraping per accelerare il processo, ma i problemi descritti lo hanno reso impraticabile. Pertanto, ho estratto manualmente le informazioni richieste da ogni dipartimento e ho creato un array di oggetti JSON. Le informazioni sulle facoltà sono state tradotte in inglese perché le librerie per l'analisi del testo sono maggiormente supportate per questa lingua.\n",
    "\n",
    "![JSON_info_faculties.png](./img/JSON_info_faculties.png)"
   ]
  },
  {
   "cell_type": "code",
   "execution_count": null,
   "id": "7e5e6907",
   "metadata": {},
   "outputs": [],
   "source": [
    "# FUNZIONE PER IL PRE-PROCESSING DEL TESTO\n",
    "\n",
    "lemmatizer = WordNetLemmatizer()\n",
    "\n",
    "def clean_text(text: str) -> str:\n",
    "    # lowercase the text\n",
    "    text = text.lower()\n",
    "    # tokenize the text\n",
    "    words = word_tokenize(text)\n",
    "    # remove stopwords\n",
    "    words = [word for word in words if word not in stopwords.words('english')]\n",
    "    # remove special characters\n",
    "    words = [word for word in words if word.isalnum()]\n",
    "    # lemmatize the words\n",
    "    words = [lemmatizer.lemmatize(word) for word in words]\n",
    "    # keep only nouns\n",
    "    words = [word for word in words if wordnet.synsets(word) and wordnet.synsets(word)[0].pos() == 'n']\n",
    "\n",
    "    # join the words\n",
    "    return ' '.join(words)"
   ]
  },
  {
   "cell_type": "markdown",
   "id": "fbb0e249",
   "metadata": {},
   "source": [
    "## Creazione dei database\n",
    "\n",
    "I dati raccolti devono essere immagazzinati in due database: per la profilazione dell'utente e per le informazioni delle facoltà."
   ]
  },
  {
   "cell_type": "markdown",
   "id": "62aab136",
   "metadata": {},
   "source": [
    "#### Creazione database profilazione utenti\n",
    "\n",
    "Per creare il database per immagazzinare le informazioni raccolte tramite il form google, partiamo dall'analizzare il file .csv con le informazioni. Il form è reperibile al seguente [link](https://docs.google.com/forms/d/e/1FAIpQLScXo5_wbRJN6U-SsDn9PMd4hd6B3IFJhNrwZ5scvbOaQ47EWA/viewform?usp=sf_link)."
   ]
  },
  {
   "cell_type": "code",
   "execution_count": null,
   "id": "8030c5b7",
   "metadata": {},
   "outputs": [],
   "source": [
    "df = pd.read_csv('./data/user_profilation.csv')\n",
    "\n",
    "# show all columns\n",
    "print(df.columns)"
   ]
  },
  {
   "cell_type": "code",
   "execution_count": null,
   "id": "213a469e",
   "metadata": {},
   "outputs": [],
   "source": [
    "# pie chart\n",
    "def plot_pie_chart(df, column_name):\n",
    "    # Get the value counts for the column\n",
    "    counts = df[column_name].value_counts()\n",
    "    \n",
    "    # Plot the pie chart\n",
    "    plt.figure(figsize=(8, 8))\n",
    "    plt.pie(counts, labels=counts.index, autopct='%1.1f%%', startangle=140)\n",
    "    plt.title(f'Pie Chart for {column_name}')\n",
    "    plt.legend(counts.index, title=column_name, loc=\"best\", bbox_to_anchor=(1, 0, 0.5, 1))\n",
    "    plt.tight_layout()\n",
    "    plt.show()\n",
    "    \n",
    "def plot_histogram(df, column_name):\n",
    "    plt.figure(figsize=(10, 6))  # opzionale: imposta le dimensioni della figura\n",
    "    df[column_name].hist(bins=len(df[column_name].unique()), edgecolor='black')  # bins imposta il numero di bin nell'istogramma\n",
    "    plt.title(f'Histogram for {column_name}')\n",
    "    plt.xlabel(column_name)\n",
    "    plt.ylabel('Frequency')\n",
    "    plt.xticks(rotation=90)\n",
    "\n",
    "# Mostra l'istogramma\n",
    "plt.show()\n",
    "\n"
   ]
  },
  {
   "cell_type": "code",
   "execution_count": null,
   "id": "db975549",
   "metadata": {
    "scrolled": false
   },
   "outputs": [],
   "source": [
    "plot_pie_chart(df, 'Tipologia:')\n",
    "plot_pie_chart(df, 'Sesso')\n",
    "plot_histogram(df, 'Età')\n",
    "plot_pie_chart(df, 'Preferisco studiare materie:')\n",
    "plot_pie_chart(df, 'Studio perché voglio aiutare le persone dal punto di vista: (ciò che preferisci di più)')\n",
    "plot_pie_chart(df, 'Mi soddisfa più: (ciò che preferisci di più)')\n",
    "plot_pie_chart(df, 'Quando studio, mi piace avere più risposte per la stessa domanda:')\n",
    "plot_histogram(df, 'Fra questi obiettivi mi rispecchio più in: (ciò che preferisci di più)')\n",
    "plot_histogram(df, 'In quale ambiente di lavoro ti senti più a tuo agio?')\n",
    "plot_histogram(df, 'Quanto sei soddisfatto della tua scelta accademica?')"
   ]
  },
  {
   "cell_type": "markdown",
   "id": "2eea0f82",
   "metadata": {},
   "source": [
    "Non tutte le colonne sono necessarie per la creazione del db."
   ]
  },
  {
   "cell_type": "code",
   "execution_count": null,
   "id": "8bbd493d",
   "metadata": {},
   "outputs": [],
   "source": [
    "columns_to_remove = ['Informazioni cronologiche', \"Anno accademico (Per la magistrale parti dal primo anno)\", \"Tipologia:\", \"Sesso\", \"Età\", \"Pareri sulla tua scelta o miglioramenti da apportare al form.\"]\n",
    "df = df.drop(columns=columns_to_remove)"
   ]
  },
  {
   "cell_type": "markdown",
   "id": "5e1c1d1f",
   "metadata": {},
   "source": [
    "Associamo ad ogni colonna un intero, così da semplificare i nomi."
   ]
  },
  {
   "cell_type": "code",
   "execution_count": null,
   "id": "054869f6",
   "metadata": {},
   "outputs": [],
   "source": [
    "# associate to each column a unique integer to simplify the column names\n",
    "column_names = df.columns\n",
    "column_map_original_names = {\n",
    "    key: value for key, value in enumerate(column_names)\n",
    "}\n",
    "\n",
    "# rename each column with the associated integer\n",
    "new_columns = {old_col: i for i, old_col in enumerate(df.columns)}\n",
    "new_columns[\"Quale corso frequenti? \"] = 'faculty'\n",
    "new_columns[\"Quanto sei soddisfatto della tua scelta accademica?\"] = 'rate'\n",
    "df = df.rename(columns=new_columns)"
   ]
  },
  {
   "cell_type": "code",
   "execution_count": null,
   "id": "08572dd5",
   "metadata": {},
   "outputs": [],
   "source": [
    "display(df)"
   ]
  },
  {
   "cell_type": "markdown",
   "id": "b143cedf",
   "metadata": {},
   "source": [
    "Notiamo che la colonna 0 ha valori non omogenei. Standardizziamo i dati."
   ]
  },
  {
   "cell_type": "code",
   "execution_count": null,
   "id": "0dc1668a",
   "metadata": {},
   "outputs": [],
   "source": [
    "# function that returns the index of the most similar word of an array\n",
    "def most_similar_word(word, word_array):\n",
    "    max_similarity = 0\n",
    "    most_similar_word_index = None\n",
    "\n",
    "    for i, w in enumerate(word_array):\n",
    "        # Combining multiple fuzzy matching scores\n",
    "        ratio = fuzz.ratio(word, w)\n",
    "        partial_ratio = fuzz.partial_ratio(word, w)\n",
    "        token_sort_ratio = fuzz.token_sort_ratio(word, w)\n",
    "        \n",
    "        # We can weight partial_ratio more to give precedence to matches with consecutive letters\n",
    "        combined_score = (ratio + 2 * partial_ratio + token_sort_ratio) / 4\n",
    "        \n",
    "        if combined_score > max_similarity:\n",
    "            max_similarity = combined_score\n",
    "            most_similar_word_index = i\n",
    "\n",
    "    return most_similar_word_index"
   ]
  },
  {
   "cell_type": "code",
   "execution_count": null,
   "id": "3a7ca27f",
   "metadata": {},
   "outputs": [],
   "source": [
    "def extract_code(string):\n",
    "    pattern = r'(l-|lm-|l |lm |l|lm)(\\d+)'\n",
    "    match = re.search(pattern, string)\n",
    "    if match:\n",
    "        prefix = match.group(1).strip()\n",
    "        number = match.group(2)\n",
    "        return prefix + (\"\" if '-' in prefix else \"-\") + number\n",
    "    else:\n",
    "        return None\n",
    "    \n",
    "columns_new_data = []\n",
    "with open('./data/faculties.json') as f:\n",
    "    faculties = json.load(f)['faculties']\n",
    "    # all valid names\n",
    "    faculties_names = [faculty['name'].lower() for faculty in faculties]\n",
    "    # all valid codes\n",
    "    faculties_codes = [faculty['code'].lower() for faculty in faculties]\n",
    "    for reply in df['faculty']:\n",
    "        # read each reply and try to standardize it\n",
    "        reply = reply.lower()\n",
    "        # if the length of the reply is short then it probably means that \n",
    "        # the user input the code of the faculty\n",
    "        if len(reply) < 5 :\n",
    "            code = extract_code(reply)\n",
    "            if code is not None:\n",
    "                columns_new_data.append(faculties_names[most_similar_word(code, faculties_codes)])\n",
    "                continue\n",
    "        most_similar_word_index = most_similar_word(reply, faculties_names)\n",
    "        columns_new_data.append(faculties_names[most_similar_word_index])\n",
    "                                                        \n",
    "df['faculty'] = columns_new_data\n",
    "display(df)"
   ]
  },
  {
   "cell_type": "markdown",
   "id": "97fea20f",
   "metadata": {},
   "source": [
    "Il prossimo step è quello di trasformare i dati categoriali in numerici. Di seguito è riportato un mapping delle risposte da categoriali a numeriche. Il criterio usato è stato quello di assegnare a risposte più umanistiche valori negativi e scientifiche valori positivi."
   ]
  },
  {
   "cell_type": "code",
   "execution_count": null,
   "id": "eadbed6d",
   "metadata": {},
   "outputs": [],
   "source": [
    "mapping = {\n",
    "    1: {\n",
    "        \"Artistico\": -4,\n",
    "        \"Musicale\": -3,\n",
    "        \"Classico\": -2,\n",
    "        \"Linguistico\": -1,\n",
    "        \"Scienze umane\": 0,\n",
    "        \"Economico\": 1,\n",
    "        \"Tecnologico\": 2,\n",
    "        \"Scientifico\": 3,\n",
    "        \"Professionale\": 4\n",
    "    },\n",
    "    2: {\n",
    "        \"Scientifiche\": 1,\n",
    "        \"Umanistiche\": -1\n",
    "    },\n",
    "    3: {\n",
    "        \"Pratica\": 0,\n",
    "        \"Teoria\": 1\n",
    "    },\n",
    "    4: {\n",
    "        \"artistico (es. Stilista, Designer, ...)\": -5,\n",
    "        \"culinario (es. Cuoco, ...)\": -4,\n",
    "        \"turistico (es. Guida Turistica, ...)\": -3,\n",
    "        \"sociale (es. Assistente Sociale, ...)\": -2,\n",
    "        \"educativo (es. Insegnante, ...)\": -1,\n",
    "        \"civile (es. Avvocato, Politico, ...)\": 0,\n",
    "        \"ambientale (es. Agricoltore, Attivista, ...)\": 1,\n",
    "        \"economico (es. Impiegato in banca, Economista, ...)\": 2,\n",
    "        \"tecnologico (es. Sviluppatore, Progettista, ...)\": 3,\n",
    "        \"sanitario (es. Dottore, Infermiere, Psicologo, ...)\": 4,\n",
    "        \"della ricerca (es. Fisico, Matematico, Storico, ...)\": 5\n",
    "    },\n",
    "    5: {\n",
    "        \"creare\": -3,\n",
    "        \"comunicare\": -2,\n",
    "        \"progettare\": -1,\n",
    "        \"comprendere\": 0,\n",
    "        \"analizzare\": 1,\n",
    "        \"ricercare\": 2,\n",
    "        \"aiutare\": 3\n",
    "    },\n",
    "    6: {\n",
    "        \"No\": -1,\n",
    "        \"Sì\": 1\n",
    "    },\n",
    "    7: {\n",
    "        \"espandere le mie conoscenze e competenze\": -3,\n",
    "        \"fare carriera\": -2,\n",
    "        \"esplorare nuove culture\": -1,\n",
    "        \"esprimere la mia creatività ed originalità\": 0,\n",
    "        \"contribuire al benessere degli altri\": 1,\n",
    "        \"fare una differenza nel mondo\": 2,\n",
    "        \"promuovere la giustizia\": 3,\n",
    "        \"promuovere l'innovazione ed il cambiamento\": 4\n",
    "    },\n",
    "    8: {\n",
    "        \"Un ambiente creativo e innovativo\": -3,\n",
    "        \"Un ambiente dinamico e stimolante\": -2,\n",
    "        \"Un ambiente collaborativo e team-oriented\": -1,\n",
    "        \"Un ambiente multiculturale e diversificato\": 0,\n",
    "        \"Un ambiente autonomo e indipendente\": 1,\n",
    "        \"Un ambiente strutturato e ben organizzato\": 2\n",
    "    }\n",
    "}\n"
   ]
  },
  {
   "cell_type": "code",
   "execution_count": null,
   "id": "5ac03e13",
   "metadata": {},
   "outputs": [],
   "source": [
    "\n",
    "def convert_categorical_to_numeric(df, mapping):\n",
    "    # Itera attraverso ciascuna domanda nel mapping\n",
    "    for question, map_dict in mapping.items():\n",
    "        \n",
    "        if question in df.columns:\n",
    "            # Converti in valore numerico\n",
    "            df[question] = df[question].map(map_dict)\n",
    "    return df\n",
    "\n",
    "convert_categorical_to_numeric(df, mapping)\n",
    "\n",
    "display(df)\n"
   ]
  },
  {
   "cell_type": "code",
   "execution_count": null,
   "id": "b0cb96f5",
   "metadata": {},
   "outputs": [],
   "source": [
    "# funzione per calcolare la similarità del coseno fra due righe di un dataframe\n",
    "def calculate_cosine_distance(df, x, y):\n",
    "    # Seleziona le colonne numeriche create dal mapping\n",
    "    numeric_columns = [i for i in range(1, 9)]\n",
    "    \n",
    "    # Estrai le due righe specificate\n",
    "    vector_x = df.loc[x, numeric_columns].values\n",
    "    vector_y = df.loc[y, numeric_columns].values\n",
    "    \n",
    "    cos_sim = cosine_similarity([vector_x], [vector_y])\n",
    "    \n",
    "    return cos_sim"
   ]
  },
  {
   "cell_type": "code",
   "execution_count": null,
   "id": "ac04ec78",
   "metadata": {},
   "outputs": [],
   "source": [
    "# salviamo i dati in un json nel seguente formato\n",
    "\n",
    "\"\"\"\n",
    "\"subjective_data\": [\n",
    "    {\n",
    "        \"faculty\": \"faculty_1\"\n",
    "        \"1\": x,\n",
    "        ...\n",
    "        \"8\": z\n",
    "    },\n",
    "    {\n",
    "        \"faculty\": \"faculty_2\"\n",
    "        \"1\": a,\n",
    "        ...\n",
    "        \"8\": b\n",
    "    }\n",
    "]\n",
    "\"\"\"\n",
    "\n",
    "data_list = {\n",
    "    \"subjective_data\": df.to_dict(orient='records')\n",
    "}\n",
    "\n",
    "with open(\"./data/subjective_data.json\", 'w') as file:\n",
    "    json.dump(data_list, file, indent=4)"
   ]
  },
  {
   "cell_type": "code",
   "execution_count": null,
   "id": "cdcd68b9",
   "metadata": {},
   "outputs": [],
   "source": [
    "plot_histogram(df, \"faculty\")"
   ]
  },
  {
   "cell_type": "markdown",
   "id": "79c9df98",
   "metadata": {},
   "source": [
    "Notiamo che la maggior parte delle risposte provengono da studenti che hanno frequentato informatica, però nei sistemi di raccomandazione non sempre il dataset è bilanciato. Un buon sistema dovrebbe funzionare anche con dataset sbilanciati. Una miglioria da apportare sarebbe quella di creare una campagna per spargere il form a tutte le facoltà in modo da coprirle tutte."
   ]
  },
  {
   "cell_type": "markdown",
   "id": "6b7cae69",
   "metadata": {},
   "source": [
    "#### Creazione database per le facoltà\n",
    "\n",
    "![DB_faculties.png](./img/DB_faculties_sql.png)\n",
    "\n",
    "La relazione fra parola e facoltà è di tipo \"molti a molti\". Per ogni parola viene calcolata la sua IDF e per ogni facoltà viene calcolata la TF di ogni parola che compare nella sua descrizione. Facendo ciò abbiamo pre calcolato le informazioni che sfrutta l'algoritmo. Di seguito è riportato il codice per creare il database.\n",
    "\n",
    "Il file .sql è contenuto nel file schema.sql (Prima di continuare con il notebook assicurati che il db sia attivo).\n",
    "\n",
    "![DB_faculties.png](./img/DB_faculties_schema.png)\n"
   ]
  },
  {
   "cell_type": "markdown",
   "id": "36dbf415",
   "metadata": {},
   "source": [
    "Prima di riempire il DB con le informazioni richieste creo un JSON con queste caratteristiche:\n",
    "    \n",
    "![db_as_json_faculties.png](./img/db_as_json_faculties.png)"
   ]
  },
  {
   "cell_type": "code",
   "execution_count": null,
   "id": "17d950e5",
   "metadata": {},
   "outputs": [],
   "source": [
    "# FUNZIONI DI SUPPORTO PER CALCOLARE IL TD E IDF\n",
    "\n",
    "def tf(words: list[str]) -> dict[str, float]:\n",
    "    tf = {}\n",
    "    for word in words:\n",
    "        if word in tf:\n",
    "            tf[word] += 1\n",
    "        else:\n",
    "            tf[word] = 1\n",
    "    total_words = len(words)\n",
    "    for word in tf:\n",
    "        tf[word] /= total_words\n",
    "    return tf\n",
    "\n",
    "\n",
    "def idf(faculties: list[dict[str, any]]):\n",
    "    idf = {}\n",
    "    doc_count = len(faculties)\n",
    "    all_words = set([word for doc in faculties for word in doc['description'].split()])\n",
    "    for word in all_words:\n",
    "        docs_with_word = 0\n",
    "        for doc in faculties:\n",
    "            if word in doc['tf']:\n",
    "                docs_with_word += 1\n",
    "        idf[word] = 1 + math.log(doc_count / docs_with_word)\n",
    "    return idf"
   ]
  },
  {
   "cell_type": "code",
   "execution_count": null,
   "id": "b647fd5e",
   "metadata": {},
   "outputs": [],
   "source": [
    "db_faculties = {\n",
    "    'faculties': [],\n",
    "    'idf': {}\n",
    "}\n",
    "\n",
    "with open('./data/faculties_infos.json', 'r') as file:\n",
    "    faculties = json.load(file)['faculties']\n",
    "    for faculty in faculties:\n",
    "        f = {}\n",
    "        f['code'] = faculty['code']\n",
    "        f['name'] = faculty['name']\n",
    "        f['description'] = clean_text(faculty['description']) + clean_text(faculty['goals']) + clean_text(faculty['jobs'])\n",
    "        f['tf'] = tf(f['description'].split())\n",
    "        db_faculties['faculties'].append(f.copy())\n",
    "\n",
    "    db_faculties['idf'] = idf(db_faculties['faculties'])"
   ]
  },
  {
   "cell_type": "markdown",
   "id": "f8a79136",
   "metadata": {},
   "source": [
    "Ora che ho creato l'oggetto db con tutte le informazioni su TF e IDF, posso salvare tutto sul database."
   ]
  },
  {
   "cell_type": "code",
   "execution_count": null,
   "id": "d38c8dc8",
   "metadata": {},
   "outputs": [],
   "source": [
    "# CONNESSIONE AL DATABASE\n",
    "\n",
    "db = mysql.connector.connect(\n",
    "    host='localhost',\n",
    "    user='root',\n",
    "    password='',\n",
    "    database='faculties_recommender'\n",
    ")\n",
    "\n",
    "if db.is_connected():\n",
    "    print('Connected to the MySQL database')\n",
    "else:\n",
    "    # shut down the program if the connection to the database is not established\n",
    "    print('Connection to the MySQL database failed')\n",
    "    exit()"
   ]
  },
  {
   "cell_type": "code",
   "execution_count": null,
   "id": "346f88a2",
   "metadata": {},
   "outputs": [],
   "source": [
    "cursor = db.cursor(buffered=True)\n",
    "\n",
    "# INSERISCO DENTRO LA TABELLA \"faculties\" TUTTE LE FACOLTA'\n",
    "for faculty in db_faculties['faculties']:\n",
    "    cursor.execute(\"INSERT INTO faculties (code, name) VALUES (%s, %s)\", (faculty['code'], faculty['name']))\n",
    "    db.commit()\n",
    "print(\"Tabella faculties riempita\")\n",
    "\n",
    "# INSERISCO DENTRO LA TABELLA \"keywords\" TUTTE LE PAROLE A DISPOSIZIONE\n",
    "idf = db_faculties['idf']\n",
    "for keyword in idf.keys():\n",
    "    cursor.execute(\"INSERT INTO keywords (word, idf) VALUES (%s, %s)\", (keyword, idf[keyword]))\n",
    "    db.commit()\n",
    "print(\"Tabella keywords riempita\")\n",
    "\n",
    "# INSERISCO DENTRO LA TABELLA \"faculties_keywords\" L'ASSOCIAZIONE FRA OGNI PAROLA E LA FACOLTA' DOVE ESSA COMPARE\n",
    "for faculty in db_faculties['faculties']:\n",
    "    # retrieve faculty ID\n",
    "    cursor.execute(\"SELECT id FROM faculties WHERE code = %s\", (faculty['code'],))\n",
    "    faculty_id = cursor.fetchone()[0]\n",
    "\n",
    "    for word in faculty['tf'].keys():\n",
    "        # retrieve keyword ID\n",
    "        cursor.execute(\"SELECT id FROM keywords WHERE word = %s\", (word,))\n",
    "        keyword_id = cursor.fetchone()[0]\n",
    "        \n",
    "        insert_query = \"INSERT INTO faculties_keywords (faculty_id, keyword_id, tf) VALUES (%s, %s, %s)\"\n",
    "        insert_data = (faculty_id, keyword_id, faculty['tf'][word])\n",
    "        cursor.execute(insert_query, insert_data)\n",
    "db.commit()\n",
    "print(\"Tabella faculties_keywords riempita\")\n",
    "cursor.close()"
   ]
  },
  {
   "cell_type": "markdown",
   "id": "f02ed715",
   "metadata": {},
   "source": [
    "In questo modo abbiamo creato il database per le informazioni in merito alle facoltà."
   ]
  },
  {
   "cell_type": "markdown",
   "id": "fe154411",
   "metadata": {},
   "source": [
    "## Schema UML del sistema di raccomandazione\n",
    "\n",
    "Finita l'introduzione sul pre-processing dei dati, in questa sezione viene mostrato lo schema UML del codice usato per la creazione del sistema di raccomandazione. È stata adottata una programmazione ad oggetti. In questa sede non viene riportato il codice però esso può essere reperito al seguente link: [https://github.com/SimoneAvellino/FacultiesRecommender](https://github.com/SimoneAvellino/FacultiesRecommender) dentro la cartella /src."
   ]
  },
  {
   "cell_type": "markdown",
   "id": "612a735d",
   "metadata": {},
   "source": [
    "![./img/uml.jpeg](./img/uml.jpeg)"
   ]
  },
  {
   "cell_type": "markdown",
   "id": "6a413a2d",
   "metadata": {},
   "source": [
    "# Utilizzo\n",
    "\n",
    "Per il corretto funzionamento deve essere presente dentro la cartella \"data\" il file \"glove.6B.50d.w2vformat.txt\", scaricabile al seguente link -> [glove](https://nlp.stanford.edu/data/glove.6B.zip). \n",
    "SE NON è PRESENTE SI DEVE AGGIUNGERE COME PRIMA RIGA LA STRINGA \"400000 50\" ALTRIMENTI LA LIBRERIA GLOVE NON FUNZIONA.\n",
    "\n",
    "![./img/glove.png](./img/glove.png)\n",
    "\n",
    "Assicurasi che il database sia avviato e che le credenziali (username, password, host) all'interno del file 'src/recommender/university.py' siano corrette."
   ]
  },
  {
   "cell_type": "code",
   "execution_count": null,
   "id": "8c1ed3ae",
   "metadata": {},
   "outputs": [
    {
     "name": "stdout",
     "output_type": "stream",
     "text": [
      "faculties_recommender root  localhost\n",
      "Connected to the MySQL database\n",
      "\n",
      "Answer the following questions:\n",
      "Quale tipologia d'istituto superiore hai frequentato?\n",
      "1 ) Artistico\n",
      "2 ) Musicale\n",
      "3 ) Classico\n",
      "4 ) Linguistico\n",
      "5 ) Scienze umane\n",
      "6 ) Economico\n",
      "7 ) Tecnologico\n",
      "8 ) Scientifico\n",
      "9 ) Professionale\n"
     ]
    }
   ],
   "source": [
    "from src.recommender.recommender import Recommender\n",
    "from src.recommender.query import UserQuery\n",
    "\n",
    "recommender = Recommender()\n",
    "\n",
    "while True:\n",
    "\n",
    "    query = UserQuery([], \"\")\n",
    "    query.ask_quetions_on_jupiter()\n",
    "    query.show_interests()\n",
    "\n",
    "    results = recommender.recommend(query)\n",
    "    print(\"\\nTop 5 faculties: \\n\")\n",
    "    i = 1\n",
    "    for faculty, score in results[:5]:\n",
    "        print(f\"{i})\", faculty.get_name())\n",
    "        i += 1\n",
    "    \n",
    "    input(\"\")\n"
   ]
  },
  {
   "cell_type": "markdown",
   "id": "1299fc65",
   "metadata": {},
   "source": [
    "##  Valutazione\n",
    "\n",
    "Ecco un'analisi sull'utilizzo del sistema con studenti universitari e un confronto tra i risultati previsti e la facoltà scelta dagli studenti. Sarà data l'opportunità di provare il sistema agli studenti che hanno compilato il form google, a coloro che non l'hanno fatto e a ChatGPT."
   ]
  },
  {
   "cell_type": "markdown",
   "id": "cc67b88f",
   "metadata": {},
   "source": [
    "### Prova del sistema tramite ChatGPT\n",
    "\n",
    "Viene dato in input a ChatGPT la seguente stringa:"
   ]
  },
  {
   "cell_type": "markdown",
   "id": "cc395700",
   "metadata": {},
   "source": [
    "\"Immedesimati in uno studente delle scuole superiori che vuole scegliere una facoltà però è indeciso. Ti viene chiesto di scrivere un testo dove parli di ciò che ti piace e non ti piace (rispondi in inglese).\""
   ]
  },
  {
   "cell_type": "markdown",
   "id": "ba6691cf",
   "metadata": {},
   "source": [
    "Successivamente viene chiesto di rispondere alle domande del form"
   ]
  },
  {
   "cell_type": "markdown",
   "id": "8cf6d398",
   "metadata": {},
   "source": [
    "\"Sulla base di quello che hai scritto rispondi ad ognuna di queste 8 domande. Per ogni domanda devi dare una sola risposta.\n",
    "\n",
    "Quale tipologia d'istituto superiore hai frequentato?\n",
    "- 1 ) Artistico\n",
    "- 2 ) Musicale\n",
    "- 3 ) Classico\n",
    "- 4 ) Linguistico\n",
    "- 5 ) Scienze umane\n",
    "- 6 ) Economico\n",
    "- 7 ) Tecnologico\n",
    "- 8 ) Scientifico\n",
    "- 9 ) Professionale\n",
    "\n",
    "Preferisco studiare materie:\n",
    "- 1 ) Scientifiche\n",
    "- 2 ) Umanistiche\n",
    "\n",
    "Preferisco:\n",
    "- 1 ) Pratica\n",
    "- 2 ) Teoria\n",
    "\n",
    "Studio perché voglio aiutare le persone dal punto di vista: (ciò che preferisci di più)\n",
    "- 1 ) artistico (es. Stilista, Designer, ...)\n",
    "- 2 ) culinario (es. Cuoco, ...)\n",
    "- 3 ) turistico (es. Guida Turistica, ...)\n",
    "- 4 ) sociale (es. Assistente Sociale, ...)\n",
    "- 5 ) educativo (es. Insegnante, ...)\n",
    "- 6 ) civile (es. Avvocato, Politico, ...)\n",
    "- 7 ) ambientale (es. Agricoltore, Attivista, ...)\n",
    "- 8 ) economico (es. Impiegato in banca, Economista, ...)\n",
    "- 9 ) tecnologico (es. Sviluppatore, Progettista, ...)\n",
    "- 10 ) sanitario (es. Dottore, Infermiere, Psicologo, ...)\n",
    "- 11 ) della ricerca (es. Fisico, Matematico, Storico, ...)\n",
    "\n",
    "Mi soddisfa più: (ciò che preferisci di più)\n",
    "- 1 ) creare\n",
    "- 2 ) comunicare\n",
    "- 3 ) progettare\n",
    "- 4 ) comprendere\n",
    "- 5 ) analizzare\n",
    "- 6 ) ricercare\n",
    "- 7 ) aiutare\n",
    "\n",
    "Quando studio, mi piace avere più risposte per la stessa domanda:\n",
    "- 1 ) No\n",
    "- 2 ) Sì\n",
    "\n",
    "Fra questi obiettivi mi rispecchio più in: (ciò che preferisci di più)\n",
    "- 1 ) espandere le mie conoscenze e competenze\n",
    "- 2 ) fare carriera\n",
    "- 3 ) esplorare nuove culture\n",
    "- 4 ) esprimere la mia creatività ed originalità\n",
    "- 5 ) contribuire al benessere degli altri\n",
    "- 6 ) fare una differenza nel mondo\n",
    "- 7 ) promuovere la giustizia\n",
    "- 8 ) promuovere l'innovazione ed il cambiamento\n",
    "\n",
    "In quale ambiente di lavoro ti senti più a tuo agio?\n",
    "- 1 ) Un ambiente creativo e innovativo\n",
    "- 2 ) Un ambiente dinamico e stimolante\n",
    "- 3 ) Un ambiente collaborativo e team-oriented\n",
    "- 4 ) Un ambiente multiculturale e diversificato\n",
    "- 5 ) Un ambiente autonomo e indipendente\n",
    "- 6 ) Un ambiente strutturato e ben organizzato\n",
    "\"\n"
   ]
  },
  {
   "cell_type": "markdown",
   "id": "0dcc4e72",
   "metadata": {},
   "source": [
    "Le risposte verranno date in input al sistema di raccomandazione e l'output dato a ChapGPT chiedendo se è soddisfatto della raccomandazione."
   ]
  },
  {
   "cell_type": "markdown",
   "id": "a43a28ac",
   "metadata": {},
   "source": [
    "##### Prova 1\n",
    "\n",
    "Interest text:\n",
    "\n",
    " Choosing a college major is a bit like navigating through a maze where every path seems to lead to something intriguing. As a high school student on the verge of making this colossal decision, I find myself torn between what I love and what I'm unsure about.  What I love? Well, I've always had a passion for unraveling the mysteries of the natural world. Science, with its boundless questions and endless discoveries, beckons to me like a siren's call. Whether it's exploring the intricacies of the human body in biology or delving into the cosmos in astronomy, the prospect of contributing to our understanding of the universe fills me with excitement.  However, amidst this fervor for science lies a lingering uncertainty. While I'm drawn to the allure of research and exploration, I can't shake the nagging doubt about the practicality of pursuing such a path. Will I be able to find stable employment? Will the job market be saturated with qualified candidates? These questions cast a shadow over my enthusiasm and make me second-guess my choices.  On the flip side, there are fields that I find less appealing. Finance, for instance, with its focus on numbers and profit margins, leaves me feeling cold. While I understand its importance in the functioning of society, the thought of spending my days crunching numbers and analyzing market trends fails to ignite any passion within me.  Similarly, the prospect of a career in law leaves me feeling ambivalent. While I admire the pursuit of justice and the ability to advocate for others, the rigid structure of legal proceedings and the often adversarial nature of the profession give me pause. I fear becoming trapped in a job that leaves me feeling unfulfilled and disconnected from my true passions.  In the end, my journey towards choosing a college major is a complex one, filled with excitement, uncertainty, and self-reflection. While I may not have all the answers right now, I trust that with careful consideration and introspection, I will eventually find my way to a path that not only aligns with my interests but also allows me to make a meaningful contribution to the world. \n",
    "\n",
    "\n",
    "Answers to the questions:\n",
    "\n",
    " 1) Quale tipologia d'istituto superiore hai frequentato? : Scientifico\n",
    " 2) Preferisco studiare materie: : Scientifiche\n",
    " 3) Preferisco: : Teoria\n",
    " 4) Studio perché voglio aiutare le persone dal punto di vista: (ciò che preferisci di più) : sanitario (es. Dottore, Infermiere, Psicologo, ...)\n",
    " 5) Mi soddisfa più: (ciò che preferisci di più) : comprendere\n",
    " 6) Quando studio, mi piace avere più risposte per la stessa domanda: : Sì\n",
    " 7) Fra questi obiettivi mi rispecchio più in: (ciò che preferisci di più) : fare una differenza nel mondo\n",
    " 8) In quale ambiente di lavoro ti senti più a tuo agio? : Un ambiente strutturato e ben organizzato\n",
    "\n",
    "Top 5 faculties: \n",
    "\n",
    "1) Scienze chimiche\n",
    "2) Informatica\n",
    "3) Scienze e tecnologie farmaceutiche\n",
    "4) Ingegneria gestionale\n",
    "5) Scienze biologiche\n",
    "\n",
    "![./img/valutazione_chatgpt1.png](./img/valutazione_chatgpt1.png)"
   ]
  },
  {
   "cell_type": "markdown",
   "id": "b671df6c",
   "metadata": {},
   "source": [
    "##### Prova 2\n",
    "\n",
    "Interest text:\n",
    "\n",
    " As a high school student trying to choose a college major, I find myself torn between various options, each seeming appealing in its own way. Here's a reflection on what I like and dislike:  What I like:  Creativity: I love the idea of pursuing a field that allows me to express my creativity. Whether it's through writing, designing, or problem-solving, I want a major that encourages thinking outside the box. Impact: Making a difference in the world is important to me. I'm drawn to majors where I can see tangible results and contribute positively to society, whether it's through environmental sustainability, social justice, or healthcare. Flexibility: I appreciate majors that offer versatility in career paths. I want to keep my options open and have the freedom to explore different industries and roles throughout my career. What I don't like:  Monotony: The thought of being stuck in a repetitive, mundane job terrifies me. I want a major that keeps me engaged and challenged, with opportunities for growth and change. Limited opportunities: I'm wary of choosing a major that could potentially lead to a narrow range of job prospects. I want something that opens doors rather than closes them. Lack of passion: Ultimately, I don't want to end up in a career that I'm not passionate about. I want to wake up excited to go to work every day, knowing that I'm doing something meaningful and fulfilling. In weighing these likes and dislikes, I hope to find a major that not only aligns with my interests and strengths but also offers the potential for a rewarding and fulfilling career path. \n",
    "\n",
    "\n",
    "Answers to the questions:\n",
    "\n",
    " 1) Quale tipologia d'istituto superiore hai frequentato? : Scientifico\n",
    " 2) Preferisco studiare materie: : Scientifiche\n",
    " 3) Preferisco: : Teoria\n",
    " 4) Studio perché voglio aiutare le persone dal punto di vista: (ciò che preferisci di più) : sociale (es. Assistente Sociale, ...)\n",
    " 5) Mi soddisfa più: (ciò che preferisci di più) : creare\n",
    " 6) Quando studio, mi piace avere più risposte per la stessa domanda: : Sì\n",
    " 7) Fra questi obiettivi mi rispecchio più in: (ciò che preferisci di più) : fare una differenza nel mondo\n",
    " 8) In quale ambiente di lavoro ti senti più a tuo agio? : Un ambiente collaborativo e team-oriented\n",
    "\n",
    "Top 5 faculties: \n",
    "\n",
    "1) Scienze del turismo\n",
    "2) Classe delle lauree magistrali in Giurisprudenza\n",
    "3) Lettere\n",
    "4) Scienze dell'economia e della gestione aziendale\n",
    "5) Biologia\n",
    "\n",
    "![./img/valutazione_chatgpt2.png](./img/valutazione_chatgpt2.png)"
   ]
  },
  {
   "cell_type": "markdown",
   "id": "f1fc7358",
   "metadata": {},
   "source": [
    "##### Prova 3\n",
    "\n",
    "Interest text:\n",
    "\n",
    " Choosing a college major can be a daunting task, especially when you're drawn to the humanities but unsure of which path to take. As a high school student grappling with this decision, I find myself torn between my passions and practicality.  What I love about the humanities is their ability to unravel the complexities of the human experience. Literature, history, philosophy—they all offer profound insights into our culture, values, and identities. I'm fascinated by the power of words to shape societies and individuals, and I thrive on exploring different perspectives and narratives.  One aspect I particularly enjoy is the opportunity for critical thinking and analysis. Delving into a piece of literature or dissecting a historical event allows me to exercise my intellect and engage with challenging ideas. There's a sense of discovery and intellectual fulfillment that comes with unraveling the layers of meaning within a text or historical context.  Moreover, the humanities foster creativity and expression. Whether through writing essays, crafting arguments, or interpreting art, I relish the chance to express myself and contribute my unique voice to the conversation. There's something deeply satisfying about the creative process and the sense of accomplishment that comes with producing something meaningful.  However, despite my passion for the humanities, there are some concerns lingering in the back of my mind. One of the main challenges I foresee is the perceived lack of practicality in pursuing a degree in this field. In a world increasingly focused on STEM disciplines and job market demands, I worry about the viability of a career path rooted in the humanities.  There's also the issue of societal expectations and pressure to choose a \"practical\" major with clear job prospects. While I'm passionate about the humanities, I'm aware of the prevailing narrative that suggests pursuing such interests may lead to limited career opportunities or financial stability.  Nevertheless, I believe that following my passion is crucial for personal fulfillment and long-term success. Despite the challenges and uncertainties, I'm determined to pursue a path that aligns with my interests and values. Whether it leads to a career in academia, journalism, or another field, I'm confident that studying the humanities will equip me with valuable skills and perspectives that are relevant across diverse industries.  In conclusion, while I may face doubts and uncertainties along the way, my love for the humanities ultimately outweighs any concerns. I'm excited to embark on this journey of self-discovery and intellectual growth, confident that it will lead to a fulfilling and meaningful future. \n",
    "\n",
    "\n",
    "Answers to the questions:\n",
    "\n",
    " 1) Quale tipologia d'istituto superiore hai frequentato? : Scienze umane\n",
    " 2) Preferisco studiare materie: : Umanistiche\n",
    " 3) Preferisco: : Teoria\n",
    " 4) Studio perché voglio aiutare le persone dal punto di vista: (ciò che preferisci di più) : sociale (es. Assistente Sociale, ...)\n",
    " 5) Mi soddisfa più: (ciò che preferisci di più) : comprendere\n",
    " 6) Quando studio, mi piace avere più risposte per la stessa domanda: : Sì\n",
    " 7) Fra questi obiettivi mi rispecchio più in: (ciò che preferisci di più) : esplorare nuove culture\n",
    " 8) In quale ambiente di lavoro ti senti più a tuo agio? : Un ambiente collaborativo e team-oriented\n",
    "\n",
    "Top 5 faculties: \n",
    "\n",
    "1) Scienze della comunicazione\n",
    "2) Beni culturali\n",
    "3) Informatica\n",
    "4) Lingue e culture moderne\n",
    "5) Ingegneria civile e ambientale\n",
    "\n",
    "![./img/valutazione_chatgpt2.png](./img/valutazione_chatgpt3.png)"
   ]
  },
  {
   "cell_type": "markdown",
   "id": "a67fd9c0",
   "metadata": {},
   "source": [
    "### Prova del sistema con persone che hanno compilato il form\n",
    "\n",
    "È stato chiesto di usare il sistema di raccomandazione a persone che hanno compilato il form. Per ogni utilizzatore ci aspettiamo che fra le top 5 facoltà consigliate ci sia la facoltà che frequenta l'utente."
   ]
  },
  {
   "cell_type": "markdown",
   "id": "1f2e57ad",
   "metadata": {},
   "source": [
    "##### Prova 1\n",
    "\n",
    "Lo studente frequenta informatica\n",
    "\n",
    "Interest text:\n",
    "\n",
    "I love using computers and playing games, i'm very creative so i would love creating my own videogame. I like math but i'm not very good at it. I hate latin and ancient languages, i don't really enjoy humanistic subjects.\n",
    "\n",
    "\n",
    "Answers to the questions:\n",
    "\n",
    " 1) Quale tipologia d'istituto superiore hai frequentato? : Scientifico\n",
    " 2) Preferisco studiare materie: : Scientifiche\n",
    " 3) Preferisco: : Pratica\n",
    " 4) Studio perché voglio aiutare le persone dal punto di vista: (ciò che preferisci di più) : tecnologico (es. Sviluppatore, Progettista, ...)\n",
    " 5) Mi soddisfa più: (ciò che preferisci di più) : creare\n",
    " 6) Quando studio, mi piace avere più risposte per la stessa domanda: : Sì\n",
    " 7) Fra questi obiettivi mi rispecchio più in: (ciò che preferisci di più) : esprimere la mia creatività ed originalità\n",
    " 8) In quale ambiente di lavoro ti senti più a tuo agio? : Un ambiente dinamico e stimolante\n",
    "\n",
    "Top 5 faculties: \n",
    "\n",
    "1) Informatica\n",
    "2) Fisica\n",
    "3) Ingegneria informatica\n",
    "4) Ingegneria industriale\n",
    "5) Scienze della nutrizione umana\n",
    "\n",
    "Il sistema ha funzionato correttamente e lo stuende è stato soddisfatto delle altre scelte (un po' meno di \"Scienze della nutrizione umana\")"
   ]
  },
  {
   "cell_type": "markdown",
   "id": "fe30e146",
   "metadata": {},
   "source": [
    "##### Prova 2\n",
    "\n",
    "Lo studentessa frequenta informatica\n",
    "\n",
    "Interest text:\n",
    "\n",
    "I need some advice on choosing my university path. My interests vary from the modern-technological aspect to old-fashioned philosophy. I like listening to music and surfing the internet to discover new worlds and keep up with what's going on every day. I like to eat sushi in general and I detest guided excursions. Otherwise I am a person who is currently mainly dedicated to study and I would say that this is quite rewarding.\n",
    "\n",
    "\n",
    "Answers to the questions:\n",
    "\n",
    " 1) Quale tipologia d'istituto superiore hai frequentato? : Tecnologico\n",
    " 2) Preferisco studiare materie: : Scientifiche\n",
    " 3) Preferisco: : Pratica\n",
    " 4) Studio perché voglio aiutare le persone dal punto di vista: (ciò che preferisci di più) : economico (es. Impiegato in banca, Economista, ...)\n",
    " 5) Mi soddisfa più: (ciò che preferisci di più) : analizzare\n",
    " 6) Quando studio, mi piace avere più risposte per la stessa domanda: : No\n",
    " 7) Fra questi obiettivi mi rispecchio più in: (ciò che preferisci di più) : espandere le mie conoscenze e competenze\n",
    " 8) In quale ambiente di lavoro ti senti più a tuo agio? : Un ambiente dinamico e stimolante\n",
    "\n",
    "Top 5 faculties: \n",
    "\n",
    "1) Medicina e Chirurgia \n",
    "2) Informatica \n",
    "3) Ingegneria informatica \n",
    "4) Scienze della comunicazione\n",
    "5) Scienze storiche\n",
    "\n",
    "Informatica non è stata consigliata come prima scelta però è sempre sul podio. La ragazza ha affermato che ancor prima di scegliere informatica aveva valutato anche Medicina."
   ]
  },
  {
   "cell_type": "markdown",
   "id": "e8891196",
   "metadata": {},
   "source": [
    "##### Prova 3\n",
    "\n",
    "Lo studentessa frequenta Lettere\n",
    "\n",
    "COMPILARE"
   ]
  },
  {
   "cell_type": "markdown",
   "id": "f2d1f876",
   "metadata": {},
   "source": [
    "### Prova del sistema con studenti delle scuole superiori\n",
    "\n",
    "##### Prova 1\n",
    "\n",
    "Interest text:\n",
    "\n",
    " I'm seventeen years old, I study computer science but I really like comunication, I personally think that my best quality is to convince people do something. I like changing enviroment and meeting new people, I'm really curious so I do a lot of question when I meet them. I don't know what I would like to do in the future but I general i like the financial sector \n",
    "\n",
    "\n",
    "Answers to the questions:\n",
    "\n",
    " 1) Quale tipologia d'istituto superiore hai frequentato? : Tecnologico\n",
    " 2) Preferisco studiare materie: : Umanistiche\n",
    " 3) Preferisco: : Teoria\n",
    " 4) Studio perché voglio aiutare le persone dal punto di vista: (ciò che preferisci di più) : economico (es. Impiegato in banca, Economista, ...)\n",
    " 5) Mi soddisfa più: (ciò che preferisci di più) : comunicare\n",
    " 6) Quando studio, mi piace avere più risposte per la stessa domanda: : Sì\n",
    " 7) Fra questi obiettivi mi rispecchio più in: (ciò che preferisci di più) : fare carriera\n",
    " 8) In quale ambiente di lavoro ti senti più a tuo agio? : Un ambiente dinamico e stimolante\n",
    "\n",
    "Top 5 faculties: \n",
    "\n",
    "1) Lingue e letterature moderne europee e americane\n",
    "2) Scienze biologiche\n",
    "3) Informatica\n",
    "4) Scienze chimiche\n",
    "5) Matematica\n",
    "\n",
    "Lo studente non è soddisfatto delle raccomandazioni da parte del sistema. L'utente si aspettava in output tutto tranne materie scientifiche."
   ]
  },
  {
   "cell_type": "markdown",
   "id": "fc246573",
   "metadata": {},
   "source": [
    "##### Prova 2\n",
    "\n",
    "DA FINIRE"
   ]
  },
  {
   "cell_type": "markdown",
   "id": "a427ae3c",
   "metadata": {},
   "source": [
    "# Conclusione\n",
    "\n",
    "Il sistema ha ottenuto risultati soddisfacenti nel confronto con gli studenti già iscritti all'università, ma ha ricevuto recensioni deludenti da parte degli studenti delle scuole superiori. Questo fenomeno sembra essere correlato a diversi fattori:\n",
    "\n",
    "- **Mancanza di informazioni sugli studenti iscritti alle facoltà:** Potrebbe essere utile avviare una campagna per diffondere il questionario e incoraggiare la partecipazione di un numero maggiore di studenti, al fine di rappresentare una gamma più ampia di facoltà.\n",
    "\n",
    "- **Scarsità di dettagli nelle descrizioni delle facoltà utilizzate nell'analisi TF-IDF:** È necessario arricchire le descrizioni delle facoltà per garantire una ricerca più accurata e pertinente in base agli interessi degli utenti.\n",
    "\n",
    "- **Miglioramento dell'analisi del testo:** L'analisi del testo deve essere ottimizzata per evitare la classificazione errata di parole come interessi positivi o negativi, specialmente quando il loro significato reale è contrario alla valutazione assegnata.\n",
    "\n",
    "Si consiglia quindi di concentrarsi su questi punti chiave per migliorare l'esperienza complessiva degli studenti e rendere il sistema di orientamento universitario più efficace ed inclusivo.\n",
    "\n",
    "Un'ulteriore miglioramento potrebbe consistere nell'introdurre domande aggiuntive quando il sistema rileva una mancanza di informazioni sufficienti, come un testo sugli interessi dell'utente troppo breve o ambiguo. Questo approccio mira a guidare l'utente verso una selezione più precisa attraverso un'interazione più approfondita. Le domande supplementari possono aiutare a raccogliere dettagli specifici e rilevanti per offrire raccomandazioni universitarie più accurate e personalizzate.\n",
    "\n",
    "Un'altra proposta emersa da diversi studenti che hanno compilato il modulo è l'introduzione di risposte multiple alle domande. Questo miglioramento consentirebbe agli utenti di fornire risposte più dettagliate e accurate, tenendo conto della complessità e della diversità delle loro preferenze e interessi. Implementare risposte multiple potrebbe aumentare l'efficacia del sistema nell'offrire raccomandazioni universitarie più mirate e pertinenti.\n",
    "\n"
   ]
  },
  {
   "cell_type": "code",
   "execution_count": null,
   "id": "123e5652",
   "metadata": {},
   "outputs": [],
   "source": []
  },
  {
   "cell_type": "code",
   "execution_count": null,
   "id": "764ad0c4",
   "metadata": {},
   "outputs": [],
   "source": []
  }
 ],
 "metadata": {
  "kernelspec": {
   "display_name": "Python 3 (ipykernel)",
   "language": "python",
   "name": "python3"
  },
  "language_info": {
   "codemirror_mode": {
    "name": "ipython",
    "version": 3
   },
   "file_extension": ".py",
   "mimetype": "text/x-python",
   "name": "python",
   "nbconvert_exporter": "python",
   "pygments_lexer": "ipython3",
   "version": "3.11.6"
  }
 },
 "nbformat": 4,
 "nbformat_minor": 5
}
